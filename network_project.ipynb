{
  "nbformat": 4,
  "nbformat_minor": 0,
  "metadata": {
    "kernelspec": {
      "display_name": "Python 3",
      "language": "python",
      "name": "python3"
    },
    "language_info": {
      "codemirror_mode": {
        "name": "ipython",
        "version": 3
      },
      "file_extension": ".py",
      "mimetype": "text/x-python",
      "name": "python",
      "nbconvert_exporter": "python",
      "pygments_lexer": "ipython3",
      "version": "3.7.4"
    },
    "colab": {
      "name": "network_project.ipynb",
      "provenance": [],
      "machine_shape": "hm"
    }
  },
  "cells": [
    {
      "cell_type": "code",
      "metadata": {
        "id": "kckV6xs7VQ2o",
        "colab_type": "code",
        "colab": {}
      },
      "source": [
        "import pandas as pd\n",
        "import numpy as np\n",
        "import ast\n",
        "import csv\n",
        "import time\n",
        "import random\n",
        "\n",
        "from operator import itemgetter\n",
        "import networkx as nx\n",
        "from networkx.algorithms import community\n",
        "\n",
        "import matplotlib.pyplot as plt"
      ],
      "execution_count": 0,
      "outputs": []
    },
    {
      "cell_type": "code",
      "metadata": {
        "id": "hKNoIS4XVTKn",
        "colab_type": "code",
        "outputId": "ef85da2d-87fd-4859-fb2e-8d3c9933f6d2",
        "colab": {
          "base_uri": "https://localhost:8080/",
          "height": 34
        }
      },
      "source": [
        "from google.colab import drive\n",
        "drive.mount('/content/drive')"
      ],
      "execution_count": 2,
      "outputs": [
        {
          "output_type": "stream",
          "text": [
            "Drive already mounted at /content/drive; to attempt to forcibly remount, call drive.mount(\"/content/drive\", force_remount=True).\n"
          ],
          "name": "stdout"
        }
      ]
    },
    {
      "cell_type": "code",
      "metadata": {
        "id": "cQIhMaiqVQ2z",
        "colab_type": "code",
        "colab": {}
      },
      "source": [
        "users=np.zeros((40000,1))"
      ],
      "execution_count": 0,
      "outputs": []
    },
    {
      "cell_type": "code",
      "metadata": {
        "id": "Q6XDBhl8VQ29",
        "colab_type": "code",
        "outputId": "fa4a28ac-dbfd-401f-e836-fd11e91edded",
        "colab": {
          "base_uri": "https://localhost:8080/",
          "height": 34
        }
      },
      "source": [
        "users.shape"
      ],
      "execution_count": 4,
      "outputs": [
        {
          "output_type": "execute_result",
          "data": {
            "text/plain": [
              "(40000, 1)"
            ]
          },
          "metadata": {
            "tags": []
          },
          "execution_count": 4
        }
      ]
    },
    {
      "cell_type": "code",
      "metadata": {
        "id": "STMgGEZNVQ3F",
        "colab_type": "code",
        "colab": {}
      },
      "source": [
        "user_friends={}\n",
        "user_tags={}\n",
        "max_friends=0\n",
        "min_friends=200000\n",
        "def hasMoreTags(s):\n",
        "    return s[-1]!=']'"
      ],
      "execution_count": 0,
      "outputs": []
    },
    {
      "cell_type": "markdown",
      "metadata": {
        "id": "7WwoNJhbQdnc",
        "colab_type": "text"
      },
      "source": [
        "# Generate User: Tags dict"
      ]
    },
    {
      "cell_type": "code",
      "metadata": {
        "id": "7KOBfQFLVQ3i",
        "colab_type": "code",
        "outputId": "50b9e536-1cde-4ddb-e0a8-59d64144dbb9",
        "colab": {
          "base_uri": "https://localhost:8080/",
          "height": 34
        }
      },
      "source": [
        "start=time.time()\n",
        "with open('/content/drive/My Drive/data.csv', 'r') as infile:\n",
        "    reader = csv.reader(infile)\n",
        "    count=-1\n",
        "    \n",
        "    for row in reader:\n",
        "        #print(row[:7])\n",
        "        count += 1\n",
        "        if count == 0:\n",
        "            continue\n",
        "        id=row[0]\n",
        "        #print(count)\n",
        "        users[count-1][0]=id\n",
        "        screenName=row[1]\n",
        "        \n",
        "        many_tags=hasMoreTags(row[2])\n",
        "        \n",
        "        offset=0\n",
        "        #print('{} originally'.format(row[2]))\n",
        "        #print(row[3])\n",
        "        if many_tags:\n",
        "            this_tags=[]\n",
        "            for j in range(20):\n",
        "                this_tags.append(row[2+j].strip('[]').strip(''))\n",
        "                if row[2+j][-1]==']':\n",
        "                    break\n",
        "            #print('{} many tags'.format(this_tags))\n",
        "            user_tags[id]=this_tags\n",
        "            offset=len(this_tags)-1\n",
        "            #print(offset)\n",
        "        else:\n",
        "            user_tags[id]=row[2].strip('[]').strip('')\n",
        "            \n",
        "        #followersCount=row[4]\n",
        "        #print(offset)\n",
        "        friendsCount=int(row[5+offset])\n",
        "        #print(row[5+offset])\n",
        "        max_friends=max(max_friends,friendsCount)\n",
        "        min_friends=min(min_friends,friendsCount)\n",
        "        friends=row[9+offset:]\n",
        "        friends[0]=friends[0].strip('[]')\n",
        "        friends[-1]=friends[-1].strip('[]')\n",
        "        friends=[i.replace('\"', '') for i in friends]\n",
        "        friends=[i.strip() for i in friends]\n",
        "        user_friends[id]=friends\n",
        "        #print(\"{} : {}\".format(count, friends))\n",
        "end=time.time()\n",
        "print('{} seconds'.format(end-start))"
      ],
      "execution_count": 6,
      "outputs": [
        {
          "output_type": "stream",
          "text": [
            "18.940265893936157 seconds\n"
          ],
          "name": "stdout"
        }
      ]
    },
    {
      "cell_type": "code",
      "metadata": {
        "id": "a4w4h74qVQ3p",
        "colab_type": "code",
        "outputId": "7768db48-e33e-4791-d4d5-cc01d8db90b5",
        "colab": {
          "base_uri": "https://localhost:8080/",
          "height": 50
        }
      },
      "source": [
        "print(max_friends)\n",
        "print(min_friends)"
      ],
      "execution_count": 7,
      "outputs": [
        {
          "output_type": "stream",
          "text": [
            "238749\n",
            "101\n"
          ],
          "name": "stdout"
        }
      ]
    },
    {
      "cell_type": "markdown",
      "metadata": {
        "id": "tImUEzkpMNhp",
        "colab_type": "text"
      },
      "source": [
        "# Generate/Read all tags"
      ]
    },
    {
      "cell_type": "code",
      "metadata": {
        "id": "rAW0d4reYV4k",
        "colab_type": "code",
        "colab": {}
      },
      "source": [
        "import re\n",
        "def remove_hashtag(raw_str):\n",
        "  return ' '.join(re.sub(\"(@[A-Za-z0-9]+)|([^0-9A-Za-z \\t])|(\\w+:\\/\\/\\S+)\",\" \",raw_str).split())"
      ],
      "execution_count": 0,
      "outputs": []
    },
    {
      "cell_type": "code",
      "metadata": {
        "id": "fzjy-L4fXu9z",
        "colab_type": "code",
        "colab": {}
      },
      "source": [
        "try:\n",
        "  all_tags=pd.read_csv('/content/drive/My Drive/all_tags_saved.csv')\n",
        "except:\n",
        "  all_tags=set()\n",
        "\n",
        "  for u in user_tags:\n",
        "    tags=user_tags[u]\n",
        "\n",
        "    if type(tags) == str:\n",
        "      all_tags.add(remove_hashtag(tags))\n",
        "    else:\n",
        "      for tag in tags:\n",
        "        all_tags.add(remove_hashtag(tag))\n",
        "\n",
        "  pd.DataFrame(list(all_tags)).to_csv('/content/drive/My Drive/all_tags_saved.csv')"
      ],
      "execution_count": 0,
      "outputs": []
    },
    {
      "cell_type": "code",
      "metadata": {
        "id": "_tZh3y96VQ3-",
        "colab_type": "code",
        "outputId": "1f0b4afc-c5c9-4335-9bdf-1a13c0c5cf33",
        "colab": {
          "base_uri": "https://localhost:8080/",
          "height": 34
        }
      },
      "source": [
        "len(all_tags)"
      ],
      "execution_count": 10,
      "outputs": [
        {
          "output_type": "execute_result",
          "data": {
            "text/plain": [
              "128"
            ]
          },
          "metadata": {
            "tags": []
          },
          "execution_count": 10
        }
      ]
    },
    {
      "cell_type": "markdown",
      "metadata": {
        "id": "x6Y6W97SNYH9",
        "colab_type": "text"
      },
      "source": [
        "# Generate Tag: User dict"
      ]
    },
    {
      "cell_type": "code",
      "metadata": {
        "id": "HI8RpY07ZmJp",
        "colab_type": "code",
        "colab": {}
      },
      "source": [
        "tag_users={}"
      ],
      "execution_count": 0,
      "outputs": []
    },
    {
      "cell_type": "code",
      "metadata": {
        "id": "V2Mj0jB7V1QX",
        "colab_type": "code",
        "colab": {}
      },
      "source": [
        "for u in user_tags:\n",
        "  tags=user_tags[u]\n",
        "  if type(tags)==str:\n",
        "    normalized_tag=remove_hashtag(tags)\n",
        "    if normalized_tag in tag_users:\n",
        "      cur_tags=tag_users[normalized_tag]\n",
        "      cur_tags.append(u)\n",
        "      tag_users[normalized_tag]=cur_tags\n",
        "    else:\n",
        "      cur_tags=[]\n",
        "      cur_tags.append(u)\n",
        "      tag_users[normalized_tag]=cur_tags\n",
        "  else:\n",
        "    for tag in tags:\n",
        "      normalized_tag=remove_hashtag(tag)\n",
        "      if normalized_tag in tag_users:\n",
        "        cur_tags=tag_users[normalized_tag]\n",
        "        cur_tags.append(u)\n",
        "        tag_users[normalized_tag]=cur_tags\n",
        "      else:\n",
        "        cur_tags=[]\n",
        "        cur_tags.append(u)\n",
        "        tag_users[normalized_tag]=cur_tags"
      ],
      "execution_count": 0,
      "outputs": []
    },
    {
      "cell_type": "code",
      "metadata": {
        "id": "amDzxx0Zao5P",
        "colab_type": "code",
        "outputId": "f33ef1dd-32bc-4b24-8320-5c05360b92ee",
        "colab": {
          "base_uri": "https://localhost:8080/",
          "height": 34
        }
      },
      "source": [
        "len(tag_users)"
      ],
      "execution_count": 13,
      "outputs": [
        {
          "output_type": "execute_result",
          "data": {
            "text/plain": [
              "128"
            ]
          },
          "metadata": {
            "tags": []
          },
          "execution_count": 13
        }
      ]
    },
    {
      "cell_type": "code",
      "metadata": {
        "id": "L6WNcpKSYxQY",
        "colab_type": "code",
        "colab": {}
      },
      "source": [
        "x=list(tag_users.keys())\n",
        "y=[len(item) for item in tag_users.values()]\n",
        "\n",
        "tag_nums=pd.DataFrame({'tags':x,'num':y})\n",
        "\n",
        "# Sort by the num of each tag\n",
        "sorted_tag_nums=tag_nums.sort_values(by=['num'], ascending=[0])"
      ],
      "execution_count": 0,
      "outputs": []
    },
    {
      "cell_type": "code",
      "metadata": {
        "colab_type": "code",
        "outputId": "37d52ae0-00b0-46d7-bae1-2bf22e2fe9ff",
        "id": "LztsFmvNrCcK",
        "colab": {
          "base_uri": "https://localhost:8080/",
          "height": 343
        }
      },
      "source": [
        "sorted_tag_nums[:10]"
      ],
      "execution_count": 15,
      "outputs": [
        {
          "output_type": "execute_result",
          "data": {
            "text/html": [
              "<div>\n",
              "<style scoped>\n",
              "    .dataframe tbody tr th:only-of-type {\n",
              "        vertical-align: middle;\n",
              "    }\n",
              "\n",
              "    .dataframe tbody tr th {\n",
              "        vertical-align: top;\n",
              "    }\n",
              "\n",
              "    .dataframe thead th {\n",
              "        text-align: right;\n",
              "    }\n",
              "</style>\n",
              "<table border=\"1\" class=\"dataframe\">\n",
              "  <thead>\n",
              "    <tr style=\"text-align: right;\">\n",
              "      <th></th>\n",
              "      <th>tags</th>\n",
              "      <th>num</th>\n",
              "    </tr>\n",
              "  </thead>\n",
              "  <tbody>\n",
              "    <tr>\n",
              "      <th>0</th>\n",
              "      <td>nationaldogday</td>\n",
              "      <td>30513</td>\n",
              "    </tr>\n",
              "    <tr>\n",
              "      <th>17</th>\n",
              "      <td>respecttylerjoseph</td>\n",
              "      <td>6054</td>\n",
              "    </tr>\n",
              "    <tr>\n",
              "      <th>2</th>\n",
              "      <td>gloryoutnow</td>\n",
              "      <td>600</td>\n",
              "    </tr>\n",
              "    <tr>\n",
              "      <th>8</th>\n",
              "      <td>backtohogwarts</td>\n",
              "      <td>310</td>\n",
              "    </tr>\n",
              "    <tr>\n",
              "      <th>1</th>\n",
              "      <td>narcos</td>\n",
              "      <td>269</td>\n",
              "    </tr>\n",
              "    <tr>\n",
              "      <th>76</th>\n",
              "      <td>steve rogers</td>\n",
              "      <td>211</td>\n",
              "    </tr>\n",
              "    <tr>\n",
              "      <th>31</th>\n",
              "      <td>louisweloveyou</td>\n",
              "      <td>142</td>\n",
              "    </tr>\n",
              "    <tr>\n",
              "      <th>24</th>\n",
              "      <td>bournemouth</td>\n",
              "      <td>130</td>\n",
              "    </tr>\n",
              "    <tr>\n",
              "      <th>69</th>\n",
              "      <td>bundesliga</td>\n",
              "      <td>122</td>\n",
              "    </tr>\n",
              "    <tr>\n",
              "      <th>27</th>\n",
              "      <td>harry potter</td>\n",
              "      <td>103</td>\n",
              "    </tr>\n",
              "  </tbody>\n",
              "</table>\n",
              "</div>"
            ],
            "text/plain": [
              "                  tags    num\n",
              "0       nationaldogday  30513\n",
              "17  respecttylerjoseph   6054\n",
              "2          gloryoutnow    600\n",
              "8       backtohogwarts    310\n",
              "1               narcos    269\n",
              "76        steve rogers    211\n",
              "31      louisweloveyou    142\n",
              "24         bournemouth    130\n",
              "69          bundesliga    122\n",
              "27        harry potter    103"
            ]
          },
          "metadata": {
            "tags": []
          },
          "execution_count": 15
        }
      ]
    },
    {
      "cell_type": "code",
      "metadata": {
        "id": "Ebhm8JTIqifi",
        "colab_type": "code",
        "colab": {}
      },
      "source": [
        "sorted_x=sorted_tag_nums['tags'][:5]\n",
        "sorted_y=sorted_tag_nums['num'][:5]"
      ],
      "execution_count": 0,
      "outputs": []
    },
    {
      "cell_type": "code",
      "metadata": {
        "id": "KZG2vC9ozADy",
        "colab_type": "code",
        "outputId": "dc54c7af-f7d5-4410-d058-529e68ba1b9b",
        "colab": {
          "base_uri": "https://localhost:8080/",
          "height": 101
        }
      },
      "source": [
        "list(sorted_x)"
      ],
      "execution_count": 17,
      "outputs": [
        {
          "output_type": "execute_result",
          "data": {
            "text/plain": [
              "['nationaldogday',\n",
              " 'respecttylerjoseph',\n",
              " 'gloryoutnow',\n",
              " 'backtohogwarts',\n",
              " 'narcos']"
            ]
          },
          "metadata": {
            "tags": []
          },
          "execution_count": 17
        }
      ]
    },
    {
      "cell_type": "code",
      "metadata": {
        "id": "lCJlJowYbw3T",
        "colab_type": "code",
        "outputId": "2017f313-e547-4c78-9c33-b0697d6569d3",
        "colab": {
          "base_uri": "https://localhost:8080/",
          "height": 455
        }
      },
      "source": [
        "fig, axes = plt.subplots(figsize=(7,5), dpi=100)\n",
        "\n",
        "plt.plot(sorted_x, sorted_y,'go-', label='line 1', linewidth=2)"
      ],
      "execution_count": 18,
      "outputs": [
        {
          "output_type": "execute_result",
          "data": {
            "text/plain": [
              "[<matplotlib.lines.Line2D at 0x7f11af51a2e8>]"
            ]
          },
          "metadata": {
            "tags": []
          },
          "execution_count": 18
        },
        {
          "output_type": "display_data",
          "data": {
            "image/png": "[encoded data removed]",
            "text/plain": [
              "<Figure size 700x500 with 1 Axes>"
            ]
          },
          "metadata": {
            "tags": []
          }
        }
      ]
    },
    {
      "cell_type": "code",
      "metadata": {
        "id": "8dE8kriDVQ4C",
        "colab_type": "code",
        "outputId": "86d1d027-f9d6-4fee-a12a-5f4be56404d8",
        "colab": {
          "base_uri": "https://localhost:8080/",
          "height": 34
        }
      },
      "source": [
        "# Generate the nodes and edges\n",
        "nodes=user_friends.keys()\n",
        "len(nodes)"
      ],
      "execution_count": 19,
      "outputs": [
        {
          "output_type": "execute_result",
          "data": {
            "text/plain": [
              "40000"
            ]
          },
          "metadata": {
            "tags": []
          },
          "execution_count": 19
        }
      ]
    },
    {
      "cell_type": "code",
      "metadata": {
        "id": "XnuHs_RLoiWj",
        "colab_type": "code",
        "colab": {}
      },
      "source": [
        "node_list=list(nodes)\n",
        "with open('/content/drive/My Drive/nodelist.txt', 'w') as filehandle:\n",
        "    for listitem in node_list:\n",
        "        filehandle.write('%s\\n' % listitem)"
      ],
      "execution_count": 0,
      "outputs": []
    },
    {
      "cell_type": "code",
      "metadata": {
        "id": "-1vkEqhEr6Pl",
        "colab_type": "code",
        "colab": {}
      },
      "source": [
        "def calculate_shortest_dist(this_tag):\n",
        "  count=1\n",
        "  for a in k_nodes:\n",
        "\n",
        "    no_paths=[]\n",
        "    shortest_path_list=[]\n",
        "    shortest_dist=[]\n",
        "\n",
        "    for b in k_nodes:\n",
        "      if a==b:\n",
        "        continue\n",
        "\n",
        "      try:\n",
        "        s_path=nx.shortest_path_length(G,a,b)\n",
        "        shortest_path_list.append((a,b,s_path))\n",
        "        shortest_dist.append(s_path)\n",
        "\n",
        "      except:\n",
        "        no_paths.append((a,b))\n",
        "\n",
        "    with open('/content/drive/My Drive/%s_shortest_path.txt'%this_tag,'a+') as fp:\n",
        "        fp.write('\\n'.join('%s %s %s'%x for x in shortest_path_list))\n",
        "\n",
        "    with open('/content/drive/My Drive/%s_no_path.txt'%this_tag,'a+') as fp:\n",
        "        fp.write('\\n'.join('%s %s'%x for x in no_paths))\n",
        "\n",
        "    with open('/content/drive/My Drive/%s_shortest_dist.txt'%this_tag,'a+') as fp:\n",
        "        fp.write('\\n'.join('%s'%x for x in shortest_dist))\n",
        "\n",
        "    #print('Finished {} node'.format(count))\n",
        "    count+=1"
      ],
      "execution_count": 0,
      "outputs": []
    },
    {
      "cell_type": "markdown",
      "metadata": {
        "id": "jBl46hPJ2lH4",
        "colab_type": "text"
      },
      "source": [
        "# Calculate Six Degree under the same tag"
      ]
    },
    {
      "cell_type": "code",
      "metadata": {
        "id": "vmwIIDoglMuM",
        "colab_type": "code",
        "colab": {}
      },
      "source": [
        "top_tags=list(sorted_x)\n",
        "\n",
        "# Sample 200 user from top 5 tags to calculate 6 degree\n",
        "k=200\n",
        "\n",
        "for this_tag in top_tags:\n",
        "  this_tag_users=set(tag_users[this_tag])\n",
        "  this_tag_users_list=list(this_tag_users)\n",
        "  k_nodes=[]\n",
        "\n",
        "  for i in range(k):\n",
        "    n1=random.choice(this_tag_users_list)\n",
        "    k_nodes.append(n1)\n",
        "\n",
        "  calculate_shortest_dist(this_tag)"
      ],
      "execution_count": 0,
      "outputs": []
    },
    {
      "cell_type": "markdown",
      "metadata": {
        "id": "BEixjBwU17E-",
        "colab_type": "text"
      },
      "source": [
        "# Analyze top 5 tags"
      ]
    },
    {
      "cell_type": "code",
      "metadata": {
        "id": "bkU4gU8StxDj",
        "colab_type": "code",
        "outputId": "c0f88bed-b301-42c8-9941-a034cdbcee79",
        "colab": {
          "base_uri": "https://localhost:8080/",
          "height": 188
        }
      },
      "source": [
        "for this_tag in top_tags:\n",
        "\n",
        "   shortest_dist_list = pd.read_csv('/content/drive/My Drive/%s_shortest_dist.txt'%this_tag, names=['dist'], sep=\" \", header=None)\n",
        "\n",
        "   print(this_tag)\n",
        "   shortest_dist_list['dist'].value_counts().to_csv('/content/drive/My Drive/%s_info.txt'%this_tag,sep=':')\n",
        "   shortest_dist_list.describe().to_csv('/content/drive/My Drive/%s_info.txt'%this_tag, mode='a',sep=':')"
      ],
      "execution_count": 23,
      "outputs": [
        {
          "output_type": "stream",
          "text": [
            "nationaldogday\n",
            "respecttylerjoseph\n"
          ],
          "name": "stdout"
        },
        {
          "output_type": "stream",
          "text": [
            "/usr/local/lib/python3.6/dist-packages/ipykernel_launcher.py:6: FutureWarning: The signature of `Series.to_csv` was aligned to that of `DataFrame.to_csv`, and argument 'header' will change its default value from False to True: please pass an explicit value to suppress this warning.\n",
            "  \n",
            "/usr/local/lib/python3.6/dist-packages/ipykernel_launcher.py:6: FutureWarning: The signature of `Series.to_csv` was aligned to that of `DataFrame.to_csv`, and argument 'header' will change its default value from False to True: please pass an explicit value to suppress this warning.\n",
            "  \n"
          ],
          "name": "stderr"
        },
        {
          "output_type": "stream",
          "text": [
            "gloryoutnow\n",
            "backtohogwarts\n",
            "narcos\n"
          ],
          "name": "stdout"
        }
      ]
    },
    {
      "cell_type": "markdown",
      "metadata": {
        "id": "oWU2TA5h2r2T",
        "colab_type": "text"
      },
      "source": [
        "# Read the graph"
      ]
    },
    {
      "cell_type": "code",
      "metadata": {
        "id": "tFrWbs2jVQ4n",
        "colab_type": "code",
        "outputId": "b720355e-fea0-424f-ac17-d5abe1e2e8ac",
        "colab": {
          "base_uri": "https://localhost:8080/",
          "height": 34
        }
      },
      "source": [
        "begin=time.time()\n",
        "try:\n",
        "  # nx.write_gpickle(G,\"test.gpickle\")\n",
        "  # Read from pickle\n",
        "  G=nx.read_gpickle(\"/content/drive/My Drive/test.gpickle\")\n",
        "  end=time.time()\n",
        "  print('Spent {} in reading graph'.format(end-begin))\n",
        "except:\n",
        "  G=nx.Graph()\n",
        "  G.add_edges_from(edges)\n",
        "  end=time.time()\n",
        "  print('{} seconds'.format(end-start))"
      ],
      "execution_count": 24,
      "outputs": [
        {
          "output_type": "stream",
          "text": [
            "Spent 105.43363904953003 in reading graph\n"
          ],
          "name": "stdout"
        }
      ]
    },
    {
      "cell_type": "code",
      "metadata": {
        "id": "N9Dg1q6H2u7B",
        "colab_type": "code",
        "colab": {
          "base_uri": "https://localhost:8080/",
          "height": 101
        },
        "outputId": "213b5dc8-1d72-41d3-dec4-440559f2660f"
      },
      "source": [
        "########### Print the summary of the graph ###########\n",
        "print(nx.info(G))"
      ],
      "execution_count": 25,
      "outputs": [
        {
          "output_type": "stream",
          "text": [
            "Name: \n",
            "Type: Graph\n",
            "Number of nodes: 12891798\n",
            "Number of edges: 32842959\n",
            "Average degree:   5.0952\n"
          ],
          "name": "stdout"
        }
      ]
    },
    {
      "cell_type": "markdown",
      "metadata": {
        "id": "k2Cf1btt2Cos",
        "colab_type": "text"
      },
      "source": [
        "# Calculate the shortest path"
      ]
    },
    {
      "cell_type": "code",
      "metadata": {
        "id": "M4SFcgLrlyus",
        "colab_type": "code",
        "colab": {}
      },
      "source": [
        "#################### Select k nodes #####################\n",
        "# node_list=[line.rstrip('\\n') for line in open('/content/drive/My Drive/nodelist.txt')]\n",
        "\n",
        "# k=1000\n",
        "# k_nodes=[]\n",
        "\n",
        "# for i in range(k):\n",
        "\n",
        "#   n1=random.choice(node_list)\n",
        "#   k_nodes.append(n1)\n",
        "\n",
        "# print('Finished sampling {} nodes'.format(k))\n",
        "\n",
        "# pairs_count=0\n",
        "# count=1\n",
        "\n",
        "# for a in k_nodes:\n",
        "\n",
        "#   no_paths=[]\n",
        "#   shortest_path_list=[]\n",
        "#   shortest_dist=[]\n",
        "\n",
        "#   for b in k_nodes:\n",
        "#     if a==b:\n",
        "#       continue\n",
        "\n",
        "#     pairs_count+=1\n",
        "\n",
        "#     try:\n",
        "#       s_path=nx.shortest_path_length(G,a,b)\n",
        "#       shortest_path_list.append((a,b,s_path))\n",
        "#       shortest_dist.append(s_path)\n",
        "\n",
        "#     except:\n",
        "#       no_paths.append((a,b))\n",
        "\n",
        "#   with open('/content/drive/My Drive/%s_shortest_path.txt'%k,'a+') as fp:\n",
        "#       fp.write('\\n'.join('%s %s %s'%x for x in shortest_path_list))\n",
        "\n",
        "#   with open('/content/drive/My Drive/%s_no_path.txt'%k,'a+') as fp:\n",
        "#       fp.write('\\n'.join('%s %s'%x for x in no_paths))\n",
        "\n",
        "#   with open('/content/drive/My Drive/%s_shortest_dist.txt'%k,'a+') as fp:\n",
        "#       fp.write('\\n'.join('%s'%x for x in shortest_dist))\n",
        "\n",
        "#   #print('finished {} node'.format(count))\n",
        "#   count+=1"
      ],
      "execution_count": 0,
      "outputs": []
    },
    {
      "cell_type": "markdown",
      "metadata": {
        "id": "9ybdgmvl2Scs",
        "colab_type": "text"
      },
      "source": [
        "#  Analyze the data"
      ]
    },
    {
      "cell_type": "code",
      "metadata": {
        "id": "LXo8Dtb2zgoR",
        "colab_type": "code",
        "colab": {}
      },
      "source": [
        "shortest_dist_list = pd.read_csv('/content/drive/My Drive/network/5000 users result/5000_shortest_dist.txt', names=['dist'], sep=\" \", header=None)"
      ],
      "execution_count": 0,
      "outputs": []
    },
    {
      "cell_type": "code",
      "metadata": {
        "id": "mMMTiEa4zpA5",
        "colab_type": "code",
        "outputId": "9d1debb7-7d15-488b-8caf-0bb06a4b7b6f",
        "colab": {
          "base_uri": "https://localhost:8080/",
          "height": 437
        }
      },
      "source": [
        "shortest_dist_list['dist'].value_counts()"
      ],
      "execution_count": 28,
      "outputs": [
        {
          "output_type": "execute_result",
          "data": {
            "text/plain": [
              "2     12299845\n",
              "3      9164037\n",
              "4      3426535\n",
              "5        78988\n",
              "6        10300\n",
              "1         4379\n",
              "32        1672\n",
              "33        1454\n",
              "42         597\n",
              "34         468\n",
              "43         427\n",
              "7          262\n",
              "44         121\n",
              "22         115\n",
              "23          94\n",
              "24          26\n",
              "35           5\n",
              "53           5\n",
              "45           4\n",
              "52           4\n",
              "63           3\n",
              "54           2\n",
              "31           1\n",
              "64           1\n",
              "Name: dist, dtype: int64"
            ]
          },
          "metadata": {
            "tags": []
          },
          "execution_count": 28
        }
      ]
    },
    {
      "cell_type": "code",
      "metadata": {
        "id": "eNekbZhRrMAl",
        "colab_type": "code",
        "colab": {}
      },
      "source": [
        "sd_count=shortest_dist_list['dist'].value_counts().rename_axis('shortest_dist').reset_index(name='counts')"
      ],
      "execution_count": 0,
      "outputs": []
    },
    {
      "cell_type": "code",
      "metadata": {
        "id": "nFfkIWxzrV7E",
        "colab_type": "code",
        "colab": {
          "base_uri": "https://localhost:8080/",
          "height": 470
        },
        "outputId": "2f2a2f50-3836-49c6-8f24-a16d9be199e1"
      },
      "source": [
        "x=sd_count['shortest_dist']\n",
        "y=sd_count['counts']\n",
        "fig, axes = plt.subplots(figsize=(7,5), dpi=100)\n",
        "plt.bar(x, height=y)"
      ],
      "execution_count": 30,
      "outputs": [
        {
          "output_type": "execute_result",
          "data": {
            "text/plain": [
              "<BarContainer object of 24 artists>"
            ]
          },
          "metadata": {
            "tags": []
          },
          "execution_count": 30
        },
        {
          "output_type": "display_data",
          "data": {
            "image/png": "[encoded data removed]",
            "text/plain": [
              "<Figure size 700x500 with 1 Axes>"
            ]
          },
          "metadata": {
            "tags": []
          }
        }
      ]
    },
    {
      "cell_type": "code",
      "metadata": {
        "id": "bmaIsG5IsYOU",
        "colab_type": "code",
        "colab": {
          "base_uri": "https://localhost:8080/",
          "height": 336
        },
        "outputId": "4330a13e-73e4-4f61-e541-41051e71ccf4"
      },
      "source": [
        "degree_greater_than_6=sd_count.loc[sd_count['shortest_dist'] > 6]\n",
        "print(degree_greater_than_6)"
      ],
      "execution_count": 31,
      "outputs": [
        {
          "output_type": "stream",
          "text": [
            "    shortest_dist  counts\n",
            "6              32    1672\n",
            "7              33    1454\n",
            "8              42     597\n",
            "9              34     468\n",
            "10             43     427\n",
            "11              7     262\n",
            "12             44     121\n",
            "13             22     115\n",
            "14             23      94\n",
            "15             24      26\n",
            "16             35       5\n",
            "17             53       5\n",
            "18             45       4\n",
            "19             52       4\n",
            "20             63       3\n",
            "21             54       2\n",
            "22             31       1\n",
            "23             64       1\n"
          ],
          "name": "stdout"
        }
      ]
    },
    {
      "cell_type": "code",
      "metadata": {
        "id": "tJ_hUBsttSNE",
        "colab_type": "code",
        "colab": {
          "base_uri": "https://localhost:8080/",
          "height": 34
        },
        "outputId": "2d4f7841-8ba0-4452-c915-a6ee7199039c"
      },
      "source": [
        "degree_greater_than_6_count=degree_greater_than_6['counts'].sum()\n",
        "print(degree_greater_than_6_count)"
      ],
      "execution_count": 32,
      "outputs": [
        {
          "output_type": "stream",
          "text": [
            "5261\n"
          ],
          "name": "stdout"
        }
      ]
    },
    {
      "cell_type": "code",
      "metadata": {
        "id": "DdOpRlxytwF1",
        "colab_type": "code",
        "colab": {
          "base_uri": "https://localhost:8080/",
          "height": 118
        },
        "outputId": "ec676a47-e6af-4c1a-d0c6-f5345c4f36af"
      },
      "source": [
        "degree_less_than_6=sd_count.loc[sd_count['shortest_dist']<6]\n",
        "print(degree_less_than_6)"
      ],
      "execution_count": 33,
      "outputs": [
        {
          "output_type": "stream",
          "text": [
            "   shortest_dist    counts\n",
            "0              2  12299845\n",
            "1              3   9164037\n",
            "2              4   3426535\n",
            "3              5     78988\n",
            "5              1      4379\n"
          ],
          "name": "stdout"
        }
      ]
    },
    {
      "cell_type": "code",
      "metadata": {
        "id": "yE-vRtrHt9vD",
        "colab_type": "code",
        "colab": {
          "base_uri": "https://localhost:8080/",
          "height": 34
        },
        "outputId": "0456d3f7-106c-4e28-e585-471379fe6b12"
      },
      "source": [
        "degree_less_than_6_count=degree_less_than_6['counts'].sum()\n",
        "print(degree_less_than_6_count)"
      ],
      "execution_count": 34,
      "outputs": [
        {
          "output_type": "stream",
          "text": [
            "24973784\n"
          ],
          "name": "stdout"
        }
      ]
    },
    {
      "cell_type": "code",
      "metadata": {
        "id": "DPUNDTSfuQqL",
        "colab_type": "code",
        "colab": {
          "base_uri": "https://localhost:8080/",
          "height": 67
        },
        "outputId": "b8925623-9ed5-4adc-b5db-2b83a2d1b9d0"
      },
      "source": [
        "degree_equal_to_6=sd_count.loc[sd_count['shortest_dist']==6]\n",
        "print(degree_equal_to_6)\n",
        "degree_equal_to_6_count=degree_equal_to_6['counts'].sum()\n",
        "print(degree_equal_to_6_count)"
      ],
      "execution_count": 35,
      "outputs": [
        {
          "output_type": "stream",
          "text": [
            "   shortest_dist  counts\n",
            "4              6   10300\n",
            "10300\n"
          ],
          "name": "stdout"
        }
      ]
    },
    {
      "cell_type": "code",
      "metadata": {
        "id": "GKkh9aKAunx_",
        "colab_type": "code",
        "colab": {
          "base_uri": "https://localhost:8080/",
          "height": 470
        },
        "outputId": "38106183-031b-418c-93b0-3f4447faf90f"
      },
      "source": [
        "# Visualization\n",
        "x_dist=['Smaller than 6', 'Equal to 6', 'Larger than 6']\n",
        "y_count=[degree_less_than_6_count,degree_equal_to_6_count,degree_greater_than_6_count]\n",
        "fig, axes = plt.subplots(figsize=(7,5), dpi=100)\n",
        "plt.plot(x_dist, y_count,'go-', label='line 1', linewidth=2)"
      ],
      "execution_count": 36,
      "outputs": [
        {
          "output_type": "execute_result",
          "data": {
            "text/plain": [
              "[<matplotlib.lines.Line2D at 0x7f0ddb3b8ef0>]"
            ]
          },
          "metadata": {
            "tags": []
          },
          "execution_count": 36
        },
        {
          "output_type": "display_data",
          "data": {
            "image/png": "[encoded data removed]",
            "text/plain": [
              "<Figure size 700x500 with 1 Axes>"
            ]
          },
          "metadata": {
            "tags": []
          }
        }
      ]
    },
    {
      "cell_type": "code",
      "metadata": {
        "id": "U1umEWxFv8X5",
        "colab_type": "code",
        "colab": {
          "base_uri": "https://localhost:8080/",
          "height": 470
        },
        "outputId": "1f9a62f9-49b5-4934-b1bc-c0495cefad71"
      },
      "source": [
        "#kwargs = dict(alpha=0.5, bins=100)\n",
        "#plt.hist(y_count, **kwargs, color='g', label='Ideal')\n",
        "# bar chart\n",
        "fig, axes = plt.subplots(figsize=(7,5), dpi=100)\n",
        "plt.bar(x_dist, height=y_count)"
      ],
      "execution_count": 37,
      "outputs": [
        {
          "output_type": "execute_result",
          "data": {
            "text/plain": [
              "<BarContainer object of 3 artists>"
            ]
          },
          "metadata": {
            "tags": []
          },
          "execution_count": 37
        },
        {
          "output_type": "display_data",
          "data": {
            "image/png": "[encoded data removed]",
            "text/plain": [
              "<Figure size 700x500 with 1 Axes>"
            ]
          },
          "metadata": {
            "tags": []
          }
        }
      ]
    },
    {
      "cell_type": "code",
      "metadata": {
        "id": "-bWsB48jzsKI",
        "colab_type": "code",
        "outputId": "0229c5e4-eb65-4e47-9e56-b4dbe0c98b0b",
        "colab": {
          "base_uri": "https://localhost:8080/",
          "height": 284
        }
      },
      "source": [
        "shortest_dist_list.describe()"
      ],
      "execution_count": 38,
      "outputs": [
        {
          "output_type": "execute_result",
          "data": {
            "text/html": [
              "<div>\n",
              "<style scoped>\n",
              "    .dataframe tbody tr th:only-of-type {\n",
              "        vertical-align: middle;\n",
              "    }\n",
              "\n",
              "    .dataframe tbody tr th {\n",
              "        vertical-align: top;\n",
              "    }\n",
              "\n",
              "    .dataframe thead th {\n",
              "        text-align: right;\n",
              "    }\n",
              "</style>\n",
              "<table border=\"1\" class=\"dataframe\">\n",
              "  <thead>\n",
              "    <tr style=\"text-align: right;\">\n",
              "      <th></th>\n",
              "      <th>dist</th>\n",
              "    </tr>\n",
              "  </thead>\n",
              "  <tbody>\n",
              "    <tr>\n",
              "      <th>count</th>\n",
              "      <td>2.498934e+07</td>\n",
              "    </tr>\n",
              "    <tr>\n",
              "      <th>mean</th>\n",
              "      <td>2.658477e+00</td>\n",
              "    </tr>\n",
              "    <tr>\n",
              "      <th>std</th>\n",
              "      <td>8.568397e-01</td>\n",
              "    </tr>\n",
              "    <tr>\n",
              "      <th>min</th>\n",
              "      <td>1.000000e+00</td>\n",
              "    </tr>\n",
              "    <tr>\n",
              "      <th>25%</th>\n",
              "      <td>2.000000e+00</td>\n",
              "    </tr>\n",
              "    <tr>\n",
              "      <th>50%</th>\n",
              "      <td>3.000000e+00</td>\n",
              "    </tr>\n",
              "    <tr>\n",
              "      <th>75%</th>\n",
              "      <td>3.000000e+00</td>\n",
              "    </tr>\n",
              "    <tr>\n",
              "      <th>max</th>\n",
              "      <td>6.400000e+01</td>\n",
              "    </tr>\n",
              "  </tbody>\n",
              "</table>\n",
              "</div>"
            ],
            "text/plain": [
              "               dist\n",
              "count  2.498934e+07\n",
              "mean   2.658477e+00\n",
              "std    8.568397e-01\n",
              "min    1.000000e+00\n",
              "25%    2.000000e+00\n",
              "50%    3.000000e+00\n",
              "75%    3.000000e+00\n",
              "max    6.400000e+01"
            ]
          },
          "metadata": {
            "tags": []
          },
          "execution_count": 38
        }
      ]
    }
  ]
}
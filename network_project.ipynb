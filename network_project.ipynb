{
  "nbformat": 4,
  "nbformat_minor": 0,
  "metadata": {
    "kernelspec": {
      "display_name": "Python 3",
      "language": "python",
      "name": "python3"
    },
    "language_info": {
      "codemirror_mode": {
        "name": "ipython",
        "version": 3
      },
      "file_extension": ".py",
      "mimetype": "text/x-python",
      "name": "python",
      "nbconvert_exporter": "python",
      "pygments_lexer": "ipython3",
      "version": "3.7.4"
    },
    "colab": {
      "name": "network_project.ipynb",
      "provenance": [],
      "machine_shape": "hm"
    }
  },
  "cells": [
    {
      "cell_type": "code",
      "metadata": {
        "id": "kckV6xs7VQ2o",
        "colab_type": "code",
        "colab": {}
      },
      "source": [
        "import pandas as pd\n",
        "import numpy as np\n",
        "import ast\n",
        "import csv\n",
        "import time\n",
        "import random\n",
        "\n",
        "from operator import itemgetter\n",
        "import networkx as nx\n",
        "from networkx.algorithms import community\n",
        "\n",
        "import matplotlib.pyplot as plt"
      ],
      "execution_count": 0,
      "outputs": []
    },
    {
      "cell_type": "code",
      "metadata": {
        "id": "hKNoIS4XVTKn",
        "colab_type": "code",
        "outputId": "f08924ef-4a1a-409f-9f26-1aee10917f8e",
        "colab": {
          "base_uri": "https://localhost:8080/",
          "height": 121
        }
      },
      "source": [
        "from google.colab import drive\n",
        "drive.mount('/content/drive')"
      ],
      "execution_count": 2,
      "outputs": [
        {
          "output_type": "stream",
          "text": [
            "Go to this URL in a browser: https://accounts.google.com/o/oauth2/auth?client_id=947318989803-6bn6qk8qdgf4n4g3pfee6491hc0brc4i.apps.googleusercontent.com&redirect_uri=urn%3aietf%3awg%3aoauth%3a2.0%3aoob&response_type=code&scope=email%20https%3a%2f%2fwww.googleapis.com%2fauth%2fdocs.test%20https%3a%2f%2fwww.googleapis.com%2fauth%2fdrive%20https%3a%2f%2fwww.googleapis.com%2fauth%2fdrive.photos.readonly%20https%3a%2f%2fwww.googleapis.com%2fauth%2fpeopleapi.readonly\n",
            "\n",
            "Enter your authorization code:\n",
            "··········\n",
            "Mounted at /content/drive\n"
          ],
          "name": "stdout"
        }
      ]
    },
    {
      "cell_type": "code",
      "metadata": {
        "id": "cQIhMaiqVQ2z",
        "colab_type": "code",
        "colab": {}
      },
      "source": [
        "users=np.zeros((40000,1))"
      ],
      "execution_count": 0,
      "outputs": []
    },
    {
      "cell_type": "code",
      "metadata": {
        "id": "Q6XDBhl8VQ29",
        "colab_type": "code",
        "outputId": "da733914-0fd5-468e-f923-31e952fb5ac1",
        "colab": {
          "base_uri": "https://localhost:8080/",
          "height": 34
        }
      },
      "source": [
        "users.shape"
      ],
      "execution_count": 0,
      "outputs": [
        {
          "output_type": "execute_result",
          "data": {
            "text/plain": [
              "(40000, 1)"
            ]
          },
          "metadata": {
            "tags": []
          },
          "execution_count": 4
        }
      ]
    },
    {
      "cell_type": "code",
      "metadata": {
        "id": "STMgGEZNVQ3F",
        "colab_type": "code",
        "colab": {}
      },
      "source": [
        "user_friends={}\n",
        "user_tags={}\n",
        "max_friends=0\n",
        "min_friends=200000\n",
        "def hasMoreTags(s):\n",
        "    return s[-1]!=']'"
      ],
      "execution_count": 0,
      "outputs": []
    },
    {
      "cell_type": "markdown",
      "metadata": {
        "id": "7WwoNJhbQdnc",
        "colab_type": "text"
      },
      "source": [
        "# Generate User: Tags dict"
      ]
    },
    {
      "cell_type": "code",
      "metadata": {
        "id": "7KOBfQFLVQ3i",
        "colab_type": "code",
        "outputId": "ee7160fa-518d-4be1-ccf8-f97a38afbfec",
        "colab": {
          "base_uri": "https://localhost:8080/",
          "height": 34
        }
      },
      "source": [
        "start=time.time()\n",
        "with open('/content/drive/My Drive/data.csv', 'r') as infile:\n",
        "    reader = csv.reader(infile)\n",
        "    count=-1\n",
        "    \n",
        "    for row in reader:\n",
        "        #print(row[:7])\n",
        "        count += 1\n",
        "        if count == 0:\n",
        "            continue\n",
        "        id=row[0]\n",
        "        #print(count)\n",
        "        users[count-1][0]=id\n",
        "        screenName=row[1]\n",
        "        \n",
        "        many_tags=hasMoreTags(row[2])\n",
        "        \n",
        "        offset=0\n",
        "        #print('{} originally'.format(row[2]))\n",
        "        #print(row[3])\n",
        "        if many_tags:\n",
        "            this_tags=[]\n",
        "            for j in range(20):\n",
        "                this_tags.append(row[2+j].strip('[]').strip(''))\n",
        "                if row[2+j][-1]==']':\n",
        "                    break\n",
        "            #print('{} many tags'.format(this_tags))\n",
        "            user_tags[id]=this_tags\n",
        "            offset=len(this_tags)-1\n",
        "            #print(offset)\n",
        "        else:\n",
        "            user_tags[id]=row[2].strip('[]').strip('')\n",
        "            \n",
        "        #followersCount=row[4]\n",
        "        #print(offset)\n",
        "        friendsCount=int(row[5+offset])\n",
        "        #print(row[5+offset])\n",
        "        max_friends=max(max_friends,friendsCount)\n",
        "        min_friends=min(min_friends,friendsCount)\n",
        "        friends=row[9+offset:]\n",
        "        friends[0]=friends[0].strip('[]')\n",
        "        friends[-1]=friends[-1].strip('[]')\n",
        "        friends=[i.replace('\"', '') for i in friends]\n",
        "        friends=[i.strip() for i in friends]\n",
        "        user_friends[id]=friends\n",
        "        #print(\"{} : {}\".format(count, friends))\n",
        "end=time.time()\n",
        "print('{} seconds'.format(end-start))"
      ],
      "execution_count": 0,
      "outputs": [
        {
          "output_type": "stream",
          "text": [
            "19.261780738830566 seconds\n"
          ],
          "name": "stdout"
        }
      ]
    },
    {
      "cell_type": "code",
      "metadata": {
        "id": "a4w4h74qVQ3p",
        "colab_type": "code",
        "outputId": "2d4561ce-d62b-441a-9b0e-5ce59b0fc9bb",
        "colab": {
          "base_uri": "https://localhost:8080/",
          "height": 50
        }
      },
      "source": [
        "print(max_friends)\n",
        "print(min_friends)"
      ],
      "execution_count": 0,
      "outputs": [
        {
          "output_type": "stream",
          "text": [
            "238749\n",
            "101\n"
          ],
          "name": "stdout"
        }
      ]
    },
    {
      "cell_type": "markdown",
      "metadata": {
        "id": "tImUEzkpMNhp",
        "colab_type": "text"
      },
      "source": [
        "# Generate/Read all tags"
      ]
    },
    {
      "cell_type": "code",
      "metadata": {
        "id": "rAW0d4reYV4k",
        "colab_type": "code",
        "colab": {}
      },
      "source": [
        "import re\n",
        "def remove_hashtag(raw_str):\n",
        "  return ' '.join(re.sub(\"(@[A-Za-z0-9]+)|([^0-9A-Za-z \\t])|(\\w+:\\/\\/\\S+)\",\" \",raw_str).split())"
      ],
      "execution_count": 0,
      "outputs": []
    },
    {
      "cell_type": "code",
      "metadata": {
        "id": "fzjy-L4fXu9z",
        "colab_type": "code",
        "colab": {}
      },
      "source": [
        "try:\n",
        "  all_tags=pd.read_csv('/content/drive/My Drive/all_tags_saved.csv')\n",
        "except:\n",
        "  all_tags=set()\n",
        "\n",
        "  for u in user_tags:\n",
        "    tags=user_tags[u]\n",
        "\n",
        "    if type(tags) == str:\n",
        "      all_tags.add(remove_hashtag(tags))\n",
        "    else:\n",
        "      for tag in tags:\n",
        "        all_tags.add(remove_hashtag(tag))\n",
        "\n",
        "  pd.DataFrame(list(all_tags)).to_csv('/content/drive/My Drive/all_tags_saved.csv')"
      ],
      "execution_count": 0,
      "outputs": []
    },
    {
      "cell_type": "code",
      "metadata": {
        "id": "_tZh3y96VQ3-",
        "colab_type": "code",
        "outputId": "46a71e61-aebf-4a8b-d282-70820a4bf8e5",
        "colab": {
          "base_uri": "https://localhost:8080/",
          "height": 34
        }
      },
      "source": [
        "len(all_tags)"
      ],
      "execution_count": 0,
      "outputs": [
        {
          "output_type": "execute_result",
          "data": {
            "text/plain": [
              "128"
            ]
          },
          "metadata": {
            "tags": []
          },
          "execution_count": 10
        }
      ]
    },
    {
      "cell_type": "markdown",
      "metadata": {
        "id": "x6Y6W97SNYH9",
        "colab_type": "text"
      },
      "source": [
        "# Generate Tag: User dict"
      ]
    },
    {
      "cell_type": "code",
      "metadata": {
        "id": "HI8RpY07ZmJp",
        "colab_type": "code",
        "colab": {}
      },
      "source": [
        "tag_users={}"
      ],
      "execution_count": 0,
      "outputs": []
    },
    {
      "cell_type": "code",
      "metadata": {
        "id": "V2Mj0jB7V1QX",
        "colab_type": "code",
        "colab": {}
      },
      "source": [
        "for u in user_tags:\n",
        "  tags=user_tags[u]\n",
        "  if type(tags)==str:\n",
        "    normalized_tag=remove_hashtag(tags)\n",
        "    if normalized_tag in tag_users:\n",
        "      cur_tags=tag_users[normalized_tag]\n",
        "      cur_tags.append(u)\n",
        "      tag_users[normalized_tag]=cur_tags\n",
        "    else:\n",
        "      cur_tags=[]\n",
        "      cur_tags.append(u)\n",
        "      tag_users[normalized_tag]=cur_tags\n",
        "  else:\n",
        "    for tag in tags:\n",
        "      normalized_tag=remove_hashtag(tag)\n",
        "      if normalized_tag in tag_users:\n",
        "        cur_tags=tag_users[normalized_tag]\n",
        "        cur_tags.append(u)\n",
        "        tag_users[normalized_tag]=cur_tags\n",
        "      else:\n",
        "        cur_tags=[]\n",
        "        cur_tags.append(u)\n",
        "        tag_users[normalized_tag]=cur_tags"
      ],
      "execution_count": 0,
      "outputs": []
    },
    {
      "cell_type": "code",
      "metadata": {
        "id": "amDzxx0Zao5P",
        "colab_type": "code",
        "outputId": "09503bea-234f-45f5-8a75-2a8cc836dbf3",
        "colab": {
          "base_uri": "https://localhost:8080/",
          "height": 34
        }
      },
      "source": [
        "len(tag_users)"
      ],
      "execution_count": 0,
      "outputs": [
        {
          "output_type": "execute_result",
          "data": {
            "text/plain": [
              "128"
            ]
          },
          "metadata": {
            "tags": []
          },
          "execution_count": 13
        }
      ]
    },
    {
      "cell_type": "code",
      "metadata": {
        "id": "L6WNcpKSYxQY",
        "colab_type": "code",
        "colab": {}
      },
      "source": [
        "x=list(tag_users.keys())\n",
        "y=[len(item) for item in tag_users.values()]\n",
        "\n",
        "tag_nums=pd.DataFrame({'tags':x,'num':y})\n",
        "\n",
        "# Sort by the num of each tag\n",
        "sorted_tag_nums=tag_nums.sort_values(by=['num'], ascending=[0])"
      ],
      "execution_count": 0,
      "outputs": []
    },
    {
      "cell_type": "code",
      "metadata": {
        "colab_type": "code",
        "outputId": "b365a775-a004-4765-e66a-1312dfb39b6a",
        "id": "LztsFmvNrCcK",
        "colab": {
          "base_uri": "https://localhost:8080/",
          "height": 343
        }
      },
      "source": [
        "sorted_tag_nums[:10]"
      ],
      "execution_count": 0,
      "outputs": [
        {
          "output_type": "execute_result",
          "data": {
            "text/html": [
              "<div>\n",
              "<style scoped>\n",
              "    .dataframe tbody tr th:only-of-type {\n",
              "        vertical-align: middle;\n",
              "    }\n",
              "\n",
              "    .dataframe tbody tr th {\n",
              "        vertical-align: top;\n",
              "    }\n",
              "\n",
              "    .dataframe thead th {\n",
              "        text-align: right;\n",
              "    }\n",
              "</style>\n",
              "<table border=\"1\" class=\"dataframe\">\n",
              "  <thead>\n",
              "    <tr style=\"text-align: right;\">\n",
              "      <th></th>\n",
              "      <th>tags</th>\n",
              "      <th>num</th>\n",
              "    </tr>\n",
              "  </thead>\n",
              "  <tbody>\n",
              "    <tr>\n",
              "      <th>0</th>\n",
              "      <td>nationaldogday</td>\n",
              "      <td>30513</td>\n",
              "    </tr>\n",
              "    <tr>\n",
              "      <th>17</th>\n",
              "      <td>respecttylerjoseph</td>\n",
              "      <td>6054</td>\n",
              "    </tr>\n",
              "    <tr>\n",
              "      <th>2</th>\n",
              "      <td>gloryoutnow</td>\n",
              "      <td>600</td>\n",
              "    </tr>\n",
              "    <tr>\n",
              "      <th>8</th>\n",
              "      <td>backtohogwarts</td>\n",
              "      <td>310</td>\n",
              "    </tr>\n",
              "    <tr>\n",
              "      <th>1</th>\n",
              "      <td>narcos</td>\n",
              "      <td>269</td>\n",
              "    </tr>\n",
              "    <tr>\n",
              "      <th>76</th>\n",
              "      <td>steve rogers</td>\n",
              "      <td>211</td>\n",
              "    </tr>\n",
              "    <tr>\n",
              "      <th>31</th>\n",
              "      <td>louisweloveyou</td>\n",
              "      <td>142</td>\n",
              "    </tr>\n",
              "    <tr>\n",
              "      <th>24</th>\n",
              "      <td>bournemouth</td>\n",
              "      <td>130</td>\n",
              "    </tr>\n",
              "    <tr>\n",
              "      <th>69</th>\n",
              "      <td>bundesliga</td>\n",
              "      <td>122</td>\n",
              "    </tr>\n",
              "    <tr>\n",
              "      <th>27</th>\n",
              "      <td>harry potter</td>\n",
              "      <td>103</td>\n",
              "    </tr>\n",
              "  </tbody>\n",
              "</table>\n",
              "</div>"
            ],
            "text/plain": [
              "                  tags    num\n",
              "0       nationaldogday  30513\n",
              "17  respecttylerjoseph   6054\n",
              "2          gloryoutnow    600\n",
              "8       backtohogwarts    310\n",
              "1               narcos    269\n",
              "76        steve rogers    211\n",
              "31      louisweloveyou    142\n",
              "24         bournemouth    130\n",
              "69          bundesliga    122\n",
              "27        harry potter    103"
            ]
          },
          "metadata": {
            "tags": []
          },
          "execution_count": 15
        }
      ]
    },
    {
      "cell_type": "code",
      "metadata": {
        "id": "Ebhm8JTIqifi",
        "colab_type": "code",
        "colab": {}
      },
      "source": [
        "sorted_x=sorted_tag_nums['tags'][:5]\n",
        "sorted_y=sorted_tag_nums['num'][:5]"
      ],
      "execution_count": 0,
      "outputs": []
    },
    {
      "cell_type": "code",
      "metadata": {
        "id": "KZG2vC9ozADy",
        "colab_type": "code",
        "outputId": "463272a9-e196-4746-c4fa-c0d6d27c1b88",
        "colab": {
          "base_uri": "https://localhost:8080/",
          "height": 101
        }
      },
      "source": [
        "list(sorted_x)"
      ],
      "execution_count": 0,
      "outputs": [
        {
          "output_type": "execute_result",
          "data": {
            "text/plain": [
              "['nationaldogday',\n",
              " 'respecttylerjoseph',\n",
              " 'gloryoutnow',\n",
              " 'backtohogwarts',\n",
              " 'narcos']"
            ]
          },
          "metadata": {
            "tags": []
          },
          "execution_count": 17
        }
      ]
    },
    {
      "cell_type": "code",
      "metadata": {
        "id": "lCJlJowYbw3T",
        "colab_type": "code",
        "outputId": "faaae730-6aa3-4966-faba-232c60f26766",
        "colab": {
          "base_uri": "https://localhost:8080/",
          "height": 455
        }
      },
      "source": [
        "fig, axes = plt.subplots(figsize=(7,5), dpi=100)\n",
        "\n",
        "plt.plot(sorted_x, sorted_y,'go-', label='line 1', linewidth=2)"
      ],
      "execution_count": 0,
      "outputs": [
        {
          "output_type": "execute_result",
          "data": {
            "text/plain": [
              "[<matplotlib.lines.Line2D at 0x7fd4bd659358>]"
            ]
          },
          "metadata": {
            "tags": []
          },
          "execution_count": 18
        },
        {
          "output_type": "display_data",
          "data": {
            "image/png": "[encoded data removed]",
            "text/plain": [
              "<Figure size 700x500 with 1 Axes>"
            ]
          },
          "metadata": {
            "tags": []
          }
        }
      ]
    },
    {
      "cell_type": "code",
      "metadata": {
        "id": "8dE8kriDVQ4C",
        "colab_type": "code",
        "outputId": "afd05f80-2513-465a-e7d9-5c0b3422facd",
        "colab": {
          "base_uri": "https://localhost:8080/",
          "height": 34
        }
      },
      "source": [
        "# Generate the nodes and edges\n",
        "nodes=user_friends.keys()\n",
        "len(nodes)"
      ],
      "execution_count": 0,
      "outputs": [
        {
          "output_type": "execute_result",
          "data": {
            "text/plain": [
              "40000"
            ]
          },
          "metadata": {
            "tags": []
          },
          "execution_count": 19
        }
      ]
    },
    {
      "cell_type": "code",
      "metadata": {
        "id": "XnuHs_RLoiWj",
        "colab_type": "code",
        "colab": {}
      },
      "source": [
        "node_list=list(nodes)\n",
        "with open('/content/drive/My Drive/nodelist.txt', 'w') as filehandle:\n",
        "    for listitem in node_list:\n",
        "        filehandle.write('%s\\n' % listitem)"
      ],
      "execution_count": 0,
      "outputs": []
    },
    {
      "cell_type": "code",
      "metadata": {
        "id": "-1vkEqhEr6Pl",
        "colab_type": "code",
        "colab": {}
      },
      "source": [
        "def calculate_shortest_dist(this_tag, k_nodes):\n",
        "  count=1\n",
        "  size_k=len(k_nodes)\n",
        "  for index_a in range(size_k):\n",
        "\n",
        "    no_paths=[]\n",
        "    shortest_path_list=[]\n",
        "    shortest_dist=[]\n",
        "\n",
        "    for index_b in range(index_a+1, size_k):\n",
        "      a=k_nodes[index_a]\n",
        "      b=k_nodes[index_b]\n",
        "\n",
        "      try:\n",
        "        s_path=nx.shortest_path_length(G,a,b)\n",
        "        shortest_path_list.append((a,b,s_path))\n",
        "        shortest_dist.append(s_path)\n",
        "\n",
        "      except:\n",
        "        no_paths.append((a,b))\n",
        "\n",
        "    with open('/content/drive/My Drive/network/%s_shortest_path.txt'%this_tag,'a+') as fp:\n",
        "        fp.write('\\n'.join('%s %s %s'%x for x in shortest_path_list))\n",
        "    with open('/content/drive/My Drive/network/%s_shortest_path.txt'%this_tag,'a+') as fp:\n",
        "        fp.write('\\n')\n",
        "\n",
        "    with open('/content/drive/My Drive/network/%s_no_path.txt'%this_tag,'a+') as fp:\n",
        "        fp.write('\\n'.join('%s %s'%x for x in no_paths))\n",
        "\n",
        "    with open('/content/drive/My Drive/network/%s_no_path.txt'%this_tag,'a+') as fp:\n",
        "        fp.write('\\n')\n",
        "  \n",
        "    with open('/content/drive/My Drive/network/%s_shortest_dist.txt'%this_tag,'a+') as fp:\n",
        "        fp.write('\\n'.join('%s'%x for x in shortest_dist))\n",
        "\n",
        "    with open('/content/drive/My Drive/network/%s_shortest_dist.txt'%this_tag,'a+') as fp:\n",
        "        fp.write('\\n')\n",
        "\n",
        "    #print('Finished {} node'.format(count))\n",
        "    count+=1"
      ],
      "execution_count": 0,
      "outputs": []
    },
    {
      "cell_type": "markdown",
      "metadata": {
        "id": "jBl46hPJ2lH4",
        "colab_type": "text"
      },
      "source": [
        "# Calculate Six Degree under the same tag"
      ]
    },
    {
      "cell_type": "code",
      "metadata": {
        "id": "vmwIIDoglMuM",
        "colab_type": "code",
        "colab": {}
      },
      "source": [
        "top_tags=list(sorted_x)\n",
        "\n",
        "# Sample 200 user from top 5 tags to calculate 6 degree\n",
        "k=200\n",
        "\n",
        "for this_tag in top_tags:\n",
        "  this_tag_users=set(tag_users[this_tag])\n",
        "  this_tag_users_list=list(this_tag_users)\n",
        "  k_nodes=set() #should not choose the same node twice\n",
        "\n",
        "  while len(k_nodes)<k:\n",
        "    n1=random.choice(this_tag_users_list)\n",
        "    if n1 not in k_nodes:\n",
        "      k_nodes.add(n1)\n",
        "  #print(len(k_nodes))\n",
        "  calculate_shortest_dist(this_tag,list(k_nodes))"
      ],
      "execution_count": 0,
      "outputs": []
    },
    {
      "cell_type": "markdown",
      "metadata": {
        "id": "BEixjBwU17E-",
        "colab_type": "text"
      },
      "source": [
        "# Analyze top 5 tags"
      ]
    },
    {
      "cell_type": "code",
      "metadata": {
        "id": "bkU4gU8StxDj",
        "colab_type": "code",
        "outputId": "b9fd4a4a-c632-4a7e-81c2-a0b47d7246ce",
        "colab": {
          "base_uri": "https://localhost:8080/",
          "height": 70
        }
      },
      "source": [
        "for this_tag in top_tags:\n",
        "\n",
        "   shortest_dist_list = pd.read_csv('/content/drive/My Drive/network/%s_shortest_dist.txt'%this_tag, names=['dist'], sep=\" \", header=None)\n",
        "\n",
        "   # print(this_tag)\n",
        "   shortest_dist_list['dist'].value_counts().to_csv('/content/drive/My Drive/network/%s_info.txt'%this_tag,sep=':')\n",
        "   shortest_dist_list.describe().to_csv('/content/drive/My Drive/network/%s_info.txt'%this_tag, mode='a',sep=':')"
      ],
      "execution_count": 0,
      "outputs": [
        {
          "output_type": "stream",
          "text": [
            "/usr/local/lib/python3.6/dist-packages/ipykernel_launcher.py:6: FutureWarning: The signature of `Series.to_csv` was aligned to that of `DataFrame.to_csv`, and argument 'header' will change its default value from False to True: please pass an explicit value to suppress this warning.\n",
            "  \n"
          ],
          "name": "stderr"
        }
      ]
    },
    {
      "cell_type": "markdown",
      "metadata": {
        "id": "oWU2TA5h2r2T",
        "colab_type": "text"
      },
      "source": [
        "# Read the graph"
      ]
    },
    {
      "cell_type": "code",
      "metadata": {
        "id": "tFrWbs2jVQ4n",
        "colab_type": "code",
        "outputId": "52e467f4-d513-442a-fad1-4f079e066e91",
        "colab": {
          "base_uri": "https://localhost:8080/",
          "height": 34
        }
      },
      "source": [
        "begin=time.time()\n",
        "try:\n",
        "  # nx.write_gpickle(G,\"test.gpickle\")\n",
        "  # Read from pickle\n",
        "  G=nx.read_gpickle(\"/content/drive/My Drive/test.gpickle\")\n",
        "  end=time.time()\n",
        "  print('Spent {} in reading graph'.format(end-begin))\n",
        "except:\n",
        "  G=nx.Graph()\n",
        "  G.add_edges_from(edges)\n",
        "  end=time.time()\n",
        "  print('{} seconds'.format(end-start))"
      ],
      "execution_count": 0,
      "outputs": [
        {
          "output_type": "stream",
          "text": [
            "Spent 112.06140112876892 in reading graph\n"
          ],
          "name": "stdout"
        }
      ]
    },
    {
      "cell_type": "code",
      "metadata": {
        "id": "N9Dg1q6H2u7B",
        "colab_type": "code",
        "outputId": "e8e4ead8-bb12-4dd5-f41c-a6a097ae212a",
        "colab": {
          "base_uri": "https://localhost:8080/",
          "height": 101
        }
      },
      "source": [
        "########### Print the summary of the graph ###########\n",
        "print(nx.info(G))"
      ],
      "execution_count": 0,
      "outputs": [
        {
          "output_type": "stream",
          "text": [
            "Name: \n",
            "Type: Graph\n",
            "Number of nodes: 12891798\n",
            "Number of edges: 32842959\n",
            "Average degree:   5.0952\n"
          ],
          "name": "stdout"
        }
      ]
    },
    {
      "cell_type": "markdown",
      "metadata": {
        "id": "k2Cf1btt2Cos",
        "colab_type": "text"
      },
      "source": [
        "# (Without Tags) Calculate the shortest path"
      ]
    },
    {
      "cell_type": "code",
      "metadata": {
        "id": "M4SFcgLrlyus",
        "colab_type": "code",
        "colab": {}
      },
      "source": [
        "#### Only Need to Calculate Once, more than 10 hours ####\n",
        "#################### Select k nodes #####################\n",
        "# node_list=[line.rstrip('\\n') for line in open('/content/drive/My Drive/nodelist.txt')]\n",
        "\n",
        "# k=5000\n",
        "# k_nodes=set()\n",
        "\n",
        "# while len(k_nodes)<k:\n",
        "#   n1=random.choice(node_list)\n",
        "#   if n1 not in k_nodes:\n",
        "#       k_nodes.add(n1)\n",
        "\n",
        "# print('Finished sampling {} nodes'.format(k))\n",
        "\n",
        "# k_nodes=list(k_nodes)\n",
        "\n",
        "# count=1\n",
        "# pairs_count=0\n",
        "\n",
        "# for index_a in range(k):\n",
        "#   no_paths=[]\n",
        "#   shortest_path_list=[]\n",
        "#   shortest_dist=[]\n",
        "\n",
        "#   for index_b in range(index_a+1,k):\n",
        "#     pairs_count+=1\n",
        "#     a=k_nodes[index_a]\n",
        "#     b=k_nodes[index_b]\n",
        "\n",
        "#     try:\n",
        "#       s_path=nx.shortest_path_length(G,a,b)\n",
        "#       shortest_path_list.append((a,b,s_path))\n",
        "#       shortest_dist.append(s_path)\n",
        "\n",
        "#     except:\n",
        "#       no_paths.append((a,b))\n",
        "\n",
        "#   with open('./data/real_%s_shortest_path.txt'%k,'a+') as fp:\n",
        "#       fp.write('\\n'.join('%s %s %s'%x for x in shortest_path_list))\n",
        "\n",
        "#   with open('./data/real_%s_no_path.txt'%k,'a+') as fp:\n",
        "#       fp.write('\\n'.join('%s %s'%x for x in no_paths))\n",
        "\n",
        "#   with open('./data/real_%s_shortest_dist.txt'%k,'a+') as fp:\n",
        "#       fp.write('\\n'.join('%s'%x for x in shortest_dist))\n",
        "\n",
        "#   print('Finished {} node'.format(count))\n",
        "#   count+=1"
      ],
      "execution_count": 0,
      "outputs": []
    },
    {
      "cell_type": "markdown",
      "metadata": {
        "id": "9ybdgmvl2Scs",
        "colab_type": "text"
      },
      "source": [
        "# (Withou Tags) Analyze the data 5000 users"
      ]
    },
    {
      "cell_type": "code",
      "metadata": {
        "id": "LXo8Dtb2zgoR",
        "colab_type": "code",
        "colab": {}
      },
      "source": [
        "shortest_dist_list = pd.read_csv('/content/drive/My Drive/network/5000_shortest_dist.txt', names=['dist'], sep=\" \", header=None)"
      ],
      "execution_count": 0,
      "outputs": []
    },
    {
      "cell_type": "code",
      "metadata": {
        "id": "mMMTiEa4zpA5",
        "colab_type": "code",
        "outputId": "042ef3f1-8851-43c7-8f93-18cf2dd9dab6",
        "colab": {
          "base_uri": "https://localhost:8080/",
          "height": 168
        }
      },
      "source": [
        "shortest_dist_list['dist'].value_counts()"
      ],
      "execution_count": 4,
      "outputs": [
        {
          "output_type": "execute_result",
          "data": {
            "text/plain": [
              "2    5980016\n",
              "3    4624087\n",
              "4    1835945\n",
              "5      52419\n",
              "6       2967\n",
              "1       1823\n",
              "7        238\n",
              "8          5\n",
              "Name: dist, dtype: int64"
            ]
          },
          "metadata": {
            "tags": []
          },
          "execution_count": 4
        }
      ]
    },
    {
      "cell_type": "code",
      "metadata": {
        "id": "-yNJl38h9xAL",
        "colab_type": "code",
        "colab": {
          "base_uri": "https://localhost:8080/",
          "height": 34
        },
        "outputId": "5b218770-06d0-4a5b-be2b-1a3e62d8f978"
      },
      "source": [
        "shortest_dist_list['dist'].count()"
      ],
      "execution_count": 18,
      "outputs": [
        {
          "output_type": "execute_result",
          "data": {
            "text/plain": [
              "12497500"
            ]
          },
          "metadata": {
            "tags": []
          },
          "execution_count": 18
        }
      ]
    },
    {
      "cell_type": "code",
      "metadata": {
        "id": "eNekbZhRrMAl",
        "colab_type": "code",
        "colab": {}
      },
      "source": [
        "sd_count=shortest_dist_list['dist'].value_counts().rename_axis('shortest_dist').reset_index(name='counts')"
      ],
      "execution_count": 0,
      "outputs": []
    },
    {
      "cell_type": "code",
      "metadata": {
        "id": "nFfkIWxzrV7E",
        "colab_type": "code",
        "outputId": "a1ce3fc1-0585-4a09-e316-5ca5d9446e90",
        "colab": {
          "base_uri": "https://localhost:8080/",
          "height": 470
        }
      },
      "source": [
        "x=sd_count['shortest_dist']\n",
        "y=sd_count['counts']\n",
        "fig, axes = plt.subplots(figsize=(7,5), dpi=100)\n",
        "plt.bar(x, height=y)"
      ],
      "execution_count": 6,
      "outputs": [
        {
          "output_type": "execute_result",
          "data": {
            "text/plain": [
              "<BarContainer object of 8 artists>"
            ]
          },
          "metadata": {
            "tags": []
          },
          "execution_count": 6
        },
        {
          "output_type": "display_data",
          "data": {
            "image/png": "[encoded data removed]",
            "text/plain": [
              "<Figure size 700x500 with 1 Axes>"
            ]
          },
          "metadata": {
            "tags": []
          }
        }
      ]
    },
    {
      "cell_type": "code",
      "metadata": {
        "id": "bmaIsG5IsYOU",
        "colab_type": "code",
        "outputId": "a7fc0aa4-25c1-470a-c947-6ed3977630e7",
        "colab": {
          "base_uri": "https://localhost:8080/",
          "height": 67
        }
      },
      "source": [
        "degree_greater_than_6=sd_count.loc[sd_count['shortest_dist'] > 6]\n",
        "print(degree_greater_than_6)"
      ],
      "execution_count": 7,
      "outputs": [
        {
          "output_type": "stream",
          "text": [
            "   shortest_dist  counts\n",
            "6              7     238\n",
            "7              8       5\n"
          ],
          "name": "stdout"
        }
      ]
    },
    {
      "cell_type": "code",
      "metadata": {
        "id": "tJ_hUBsttSNE",
        "colab_type": "code",
        "outputId": "69f9a3e1-2b1b-49ac-be01-1c3c0a57f96c",
        "colab": {
          "base_uri": "https://localhost:8080/",
          "height": 34
        }
      },
      "source": [
        "degree_greater_than_6_count=degree_greater_than_6['counts'].sum()\n",
        "print(degree_greater_than_6_count)"
      ],
      "execution_count": 8,
      "outputs": [
        {
          "output_type": "stream",
          "text": [
            "243\n"
          ],
          "name": "stdout"
        }
      ]
    },
    {
      "cell_type": "code",
      "metadata": {
        "id": "DdOpRlxytwF1",
        "colab_type": "code",
        "outputId": "5cf3989c-f4cf-47ef-bb6e-954eec714a9a",
        "colab": {
          "base_uri": "https://localhost:8080/",
          "height": 118
        }
      },
      "source": [
        "degree_less_than_6=sd_count.loc[sd_count['shortest_dist']<6]\n",
        "print(degree_less_than_6)"
      ],
      "execution_count": 9,
      "outputs": [
        {
          "output_type": "stream",
          "text": [
            "   shortest_dist   counts\n",
            "0              2  5980016\n",
            "1              3  4624087\n",
            "2              4  1835945\n",
            "3              5    52419\n",
            "5              1     1823\n"
          ],
          "name": "stdout"
        }
      ]
    },
    {
      "cell_type": "code",
      "metadata": {
        "id": "yE-vRtrHt9vD",
        "colab_type": "code",
        "outputId": "fdc21d46-ada9-4f49-c98e-44bb5a5dd2a8",
        "colab": {
          "base_uri": "https://localhost:8080/",
          "height": 34
        }
      },
      "source": [
        "degree_less_than_6_count=degree_less_than_6['counts'].sum()\n",
        "print(degree_less_than_6_count)"
      ],
      "execution_count": 10,
      "outputs": [
        {
          "output_type": "stream",
          "text": [
            "12494290\n"
          ],
          "name": "stdout"
        }
      ]
    },
    {
      "cell_type": "code",
      "metadata": {
        "id": "DPUNDTSfuQqL",
        "colab_type": "code",
        "outputId": "dea801dc-81b2-4905-eb95-6a27cdc6314b",
        "colab": {
          "base_uri": "https://localhost:8080/",
          "height": 67
        }
      },
      "source": [
        "degree_equal_to_6=sd_count.loc[sd_count['shortest_dist']==6]\n",
        "print(degree_equal_to_6)\n",
        "degree_equal_to_6_count=degree_equal_to_6['counts'].sum()\n",
        "print(degree_equal_to_6_count)"
      ],
      "execution_count": 13,
      "outputs": [
        {
          "output_type": "stream",
          "text": [
            "   shortest_dist  counts\n",
            "4              6    2967\n",
            "2967\n"
          ],
          "name": "stdout"
        }
      ]
    },
    {
      "cell_type": "code",
      "metadata": {
        "id": "GKkh9aKAunx_",
        "colab_type": "code",
        "outputId": "51bdde0e-aa63-4090-84ff-65081e8bbdaa",
        "colab": {
          "base_uri": "https://localhost:8080/",
          "height": 470
        }
      },
      "source": [
        "# Visualization\n",
        "x_dist=['Smaller than 6', 'Equal to 6', 'Larger than 6']\n",
        "y_count=[degree_less_than_6_count, degree_equal_to_6_count ,degree_greater_than_6_count]\n",
        "fig, axes = plt.subplots(figsize=(7,5), dpi=100)\n",
        "plt.plot(x_dist, y_count,'go-', label='line 1', linewidth=2)"
      ],
      "execution_count": 14,
      "outputs": [
        {
          "output_type": "execute_result",
          "data": {
            "text/plain": [
              "[<matplotlib.lines.Line2D at 0x7f4f33a975c0>]"
            ]
          },
          "metadata": {
            "tags": []
          },
          "execution_count": 14
        },
        {
          "output_type": "display_data",
          "data": {
            "image/png": "[encoded data removed]",
            "text/plain": [
              "<Figure size 700x500 with 1 Axes>"
            ]
          },
          "metadata": {
            "tags": []
          }
        }
      ]
    },
    {
      "cell_type": "code",
      "metadata": {
        "id": "U1umEWxFv8X5",
        "colab_type": "code",
        "outputId": "b7974e58-bb45-401d-d4ca-109d46863d4f",
        "colab": {
          "base_uri": "https://localhost:8080/",
          "height": 470
        }
      },
      "source": [
        "#kwargs = dict(alpha=0.5, bins=100)\n",
        "#plt.hist(y_count, **kwargs, color='g', label='Ideal')\n",
        "# bar chart\n",
        "fig, axes = plt.subplots(figsize=(7,5), dpi=100)\n",
        "plt.bar(x_dist, height=y_count)"
      ],
      "execution_count": 15,
      "outputs": [
        {
          "output_type": "execute_result",
          "data": {
            "text/plain": [
              "<BarContainer object of 3 artists>"
            ]
          },
          "metadata": {
            "tags": []
          },
          "execution_count": 15
        },
        {
          "output_type": "display_data",
          "data": {
            "image/png": "[encoded data removed]",
            "text/plain": [
              "<Figure size 700x500 with 1 Axes>"
            ]
          },
          "metadata": {
            "tags": []
          }
        }
      ]
    },
    {
      "cell_type": "code",
      "metadata": {
        "id": "-bWsB48jzsKI",
        "colab_type": "code",
        "outputId": "acbcb20a-ee59-4b3d-b254-71c42588bcad",
        "colab": {
          "base_uri": "https://localhost:8080/",
          "height": 284
        }
      },
      "source": [
        "shortest_dist_list.describe()"
      ],
      "execution_count": 16,
      "outputs": [
        {
          "output_type": "execute_result",
          "data": {
            "text/html": [
              "<div>\n",
              "<style scoped>\n",
              "    .dataframe tbody tr th:only-of-type {\n",
              "        vertical-align: middle;\n",
              "    }\n",
              "\n",
              "    .dataframe tbody tr th {\n",
              "        vertical-align: top;\n",
              "    }\n",
              "\n",
              "    .dataframe thead th {\n",
              "        text-align: right;\n",
              "    }\n",
              "</style>\n",
              "<table border=\"1\" class=\"dataframe\">\n",
              "  <thead>\n",
              "    <tr style=\"text-align: right;\">\n",
              "      <th></th>\n",
              "      <th>dist</th>\n",
              "    </tr>\n",
              "  </thead>\n",
              "  <tbody>\n",
              "    <tr>\n",
              "      <th>count</th>\n",
              "      <td>1.249750e+07</td>\n",
              "    </tr>\n",
              "    <tr>\n",
              "      <th>mean</th>\n",
              "      <td>2.677295e+00</td>\n",
              "    </tr>\n",
              "    <tr>\n",
              "      <th>std</th>\n",
              "      <td>7.355787e-01</td>\n",
              "    </tr>\n",
              "    <tr>\n",
              "      <th>min</th>\n",
              "      <td>1.000000e+00</td>\n",
              "    </tr>\n",
              "    <tr>\n",
              "      <th>25%</th>\n",
              "      <td>2.000000e+00</td>\n",
              "    </tr>\n",
              "    <tr>\n",
              "      <th>50%</th>\n",
              "      <td>3.000000e+00</td>\n",
              "    </tr>\n",
              "    <tr>\n",
              "      <th>75%</th>\n",
              "      <td>3.000000e+00</td>\n",
              "    </tr>\n",
              "    <tr>\n",
              "      <th>max</th>\n",
              "      <td>8.000000e+00</td>\n",
              "    </tr>\n",
              "  </tbody>\n",
              "</table>\n",
              "</div>"
            ],
            "text/plain": [
              "               dist\n",
              "count  1.249750e+07\n",
              "mean   2.677295e+00\n",
              "std    7.355787e-01\n",
              "min    1.000000e+00\n",
              "25%    2.000000e+00\n",
              "50%    3.000000e+00\n",
              "75%    3.000000e+00\n",
              "max    8.000000e+00"
            ]
          },
          "metadata": {
            "tags": []
          },
          "execution_count": 16
        }
      ]
    }
  ]
}